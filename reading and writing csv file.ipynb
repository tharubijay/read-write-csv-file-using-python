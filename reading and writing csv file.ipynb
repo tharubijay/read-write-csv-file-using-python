{
 "cells": [
  {
   "cell_type": "code",
   "execution_count": 4,
   "id": "80faddaf",
   "metadata": {},
   "outputs": [
    {
     "name": "stdout",
     "output_type": "stream",
     "text": [
      "       Name  Age\n",
      "0     Bijay   23\n",
      "1    Arbind   25\n",
      "2    Mahesh   24\n",
      "3  Rambrich   24\n",
      "4   Manjesh   23\n"
     ]
    }
   ],
   "source": [
    "# writing a csv file\n",
    "import csv\n",
    "import pandas as pd \n",
    "data = {\"Name\":[\"Bijay\", \"Arbind\", \"Mahesh\", \"Rambrich\", \"Manjesh\", \"Ramkishor\"],\n",
    "        \"Age\": [23, 25, 24, 24, 23, 26]}\n",
    "data = pd.DataFrame(data)\n",
    "data.to_csv(\"age_data.csv\")\n",
    "print(data.head())"
   ]
  },
  {
   "cell_type": "code",
   "execution_count": 5,
   "id": "5134d393",
   "metadata": {},
   "outputs": [
    {
     "name": "stdout",
     "output_type": "stream",
     "text": [
      "   Unnamed: 0      Name  Age\n",
      "0           0     Bijay   23\n",
      "1           1    Arbind   25\n",
      "2           2    Mahesh   24\n",
      "3           3  Rambrich   24\n",
      "4           4   Manjesh   23\n"
     ]
    }
   ],
   "source": [
    "# reading a csv file\n",
    "import pandas as pd\n",
    "data = pd.read_csv(\"age_data.csv\")\n",
    "print(data.head())"
   ]
  },
  {
   "cell_type": "code",
   "execution_count": null,
   "id": "760cefbe",
   "metadata": {},
   "outputs": [],
   "source": []
  }
 ],
 "metadata": {
  "kernelspec": {
   "display_name": "Python 3 (ipykernel)",
   "language": "python",
   "name": "python3"
  },
  "language_info": {
   "codemirror_mode": {
    "name": "ipython",
    "version": 3
   },
   "file_extension": ".py",
   "mimetype": "text/x-python",
   "name": "python",
   "nbconvert_exporter": "python",
   "pygments_lexer": "ipython3",
   "version": "3.9.12"
  }
 },
 "nbformat": 4,
 "nbformat_minor": 5
}
